{
 "cells": [
  {
   "cell_type": "code",
   "execution_count": 5,
   "metadata": {
    "collapsed": true
   },
   "outputs": [],
   "source": [
    "a = [1, 2, 3]\n",
    "b = [4, 5, 6]\n",
    "c = [7, 8, 9]"
   ]
  },
  {
   "cell_type": "code",
   "execution_count": 7,
   "metadata": {
    "collapsed": false
   },
   "outputs": [],
   "source": [
    "z = zip(a, b, c)"
   ]
  },
  {
   "cell_type": "code",
   "execution_count": 3,
   "metadata": {
    "collapsed": false
   },
   "outputs": [
    {
     "ename": "SyntaxError",
     "evalue": "unexpected EOF while parsing (<ipython-input-3-c03283251855>, line 1)",
     "output_type": "error",
     "traceback": [
      "\u001b[0;36m  File \u001b[0;32m\"<ipython-input-3-c03283251855>\"\u001b[0;36m, line \u001b[0;32m1\u001b[0m\n\u001b[0;31m    for i,j,k in z:\u001b[0m\n\u001b[0m                   ^\u001b[0m\n\u001b[0;31mSyntaxError\u001b[0m\u001b[0;31m:\u001b[0m unexpected EOF while parsing\n"
     ]
    }
   ],
   "source": [
    "for i,j,k in z:"
   ]
  },
  {
   "cell_type": "code",
   "execution_count": 8,
   "metadata": {
    "collapsed": false
   },
   "outputs": [
    {
     "name": "stdout",
     "output_type": "stream",
     "text": [
      "1 4 7\n",
      "2 5 8\n",
      "3 6 9\n"
     ]
    }
   ],
   "source": [
    "for i,j,k in list(z):\n",
    "    print(i,j,k)"
   ]
  },
  {
   "cell_type": "code",
   "execution_count": 9,
   "metadata": {
    "collapsed": true
   },
   "outputs": [],
   "source": [
    "from susiso_parser import susiso_parser"
   ]
  },
  {
   "cell_type": "code",
   "execution_count": 10,
   "metadata": {
    "collapsed": true
   },
   "outputs": [],
   "source": [
    "s = susiso_parser()"
   ]
  },
  {
   "cell_type": "code",
   "execution_count": 11,
   "metadata": {
    "collapsed": true
   },
   "outputs": [],
   "source": [
    "s.refresh_notification()"
   ]
  },
  {
   "cell_type": "code",
   "execution_count": 12,
   "metadata": {
    "collapsed": false
   },
   "outputs": [
    {
     "name": "stdout",
     "output_type": "stream",
     "text": [
      "[공지]2016학년도 스마트시스템경진대회 포스터 및 관람안내\n",
      "2016.11.22\n",
      "goHref('/rb/?r=home&c=2/38&uid=2254');\n",
      "[공지]2017학년도 1학기 재학생 및 복학예정자 대상 교내장학금 신청공고\n",
      "2016.11.14\n",
      "goHref('/rb/?r=home&c=2/38&uid=2245');\n",
      "[공지]2017 CES 참관 추천학생 합격자 발표\n",
      "2016.11.02\n",
      "goHref('/rb/?r=home&c=2/38&uid=2230');\n",
      "[공지]국제 IT 연수 면접일정 안내\n",
      "2016.10.27\n",
      "goHref('/rb/?r=home&c=2/38&uid=2219');\n",
      "[공지]국제IT연수 사업 공지(수정)\n",
      "2016.10.21\n",
      "goHref('/rb/?r=home&c=2/38&uid=2217');\n",
      "[공지] 2016학년도 2학기 튜터링 프로그램 운영\n",
      "2016.10.07\n",
      "goHref('/rb/?r=home&c=2/38&uid=2203');\n",
      "[공지]2016학년도 스마트시스템 경진대회 공고\n",
      "2016.09.22\n",
      "goHref('/rb/?r=home&c=2/38&uid=2182');\n",
      "[공지]개인정보처리방침 안내\n",
      "2016.05.11\n",
      "goHref('/rb/?r=home&c=2/38&uid=2038');\n",
      "[공지]2016년도 동계 강좌-Java 프로그래밍 신청 안내\n",
      "2016.12.14\n",
      "goHref('/rb/?r=home&c=2/38&uid=2267');\n",
      "[공지]2016학년도 동계 IT 해외봉사 참가자 모집 안내\n",
      "2016.11.24\n",
      "goHref('/rb/?r=home&c=2/38&uid=2263');\n",
      "[공지]2016 '학술적 에세이/논문 쓰기 경진대회' 안내\n",
      "2016.11.24\n",
      "goHref('/rb/?r=home&c=2/38&uid=2262');\n",
      "[공지]찾아가는 공개SW 체험캠프\n",
      "2016.11.22\n",
      "goHref('/rb/?r=home&c=2/38&uid=2253');\n",
      "[공지][네이버 D2] 예비개발자를 위한 IT 스터디 그룹 프로그램 모집 안내\n",
      "2016.11.21\n",
      "goHref('/rb/?r=home&c=2/38&uid=2251');\n",
      "[공지]2016 외국인 투자기업 현장방문 참가학생 모집 안내\n",
      "2016.11.11\n",
      "goHref('/rb/?r=home&c=2/38&uid=2244');\n",
      "[공지] 2016-겨울계절제 국내대학 학점교류 시행 안내\n",
      "2016.11.10\n",
      "goHref('/rb/?r=home&c=2/38&uid=2236');\n",
      "[공지]2016년도 2~4학년 대상 숭실 6대 핵심역량 진단 실시 안내\n",
      "2016.11.04\n",
      "goHref('/rb/?r=home&c=2/38&uid=2233');\n",
      "[공지]2016학년도 2학기 강의만족도조사 (강의평가) 실시 안내\n",
      "2016.10.19\n",
      "goHref('/rb/?r=home&c=2/38&uid=2216');\n",
      "[공지]문화관 406호 출입 안내\n",
      "2016.10.17\n",
      "goHref('/rb/?r=home&c=2/38&uid=2215');\n",
      "[공지]제5회 숭실석좌강좌 개최 안내\n",
      "2016.10.14\n",
      "goHref('/rb/?r=home&c=2/38&uid=2207');\n",
      "[공지]'빅포럼(B.I.G. Forum) 2016'  참여 안내\n",
      "2016.10.11\n",
      "goHref('/rb/?r=home&c=2/38&uid=2205');\n",
      "[공지]2016 전국대학생자율로봇경진대회 공고\n",
      "2016.10.07\n",
      "goHref('/rb/?r=home&c=2/38&uid=2202');\n",
      "[공지]2016 슈퍼스타 통합 창업 경진대회 안내\n",
      "2016.10.06\n",
      "goHref('/rb/?r=home&c=2/38&uid=2201');\n",
      "[공지]서울시 공공앱 공모전 안내\n",
      "2016.10.05\n",
      "goHref('/rb/?r=home&c=2/38&uid=2199');\n",
      "[공지]2017학년도 퀄컴 글로벌 장학프로그램 참여 홍보\n",
      "2016.09.30\n",
      "goHref('/rb/?r=home&c=2/38&uid=2192');\n",
      "[공지]융합전공 교과과정 안내\n",
      "2016.09.29\n",
      "goHref('/rb/?r=home&c=2/38&uid=2190');\n",
      "[공지]2016년 제7차 의무경찰 모집 공고\n",
      "2016.09.29\n",
      "goHref('/rb/?r=home&c=2/38&uid=2189');\n",
      "[공지]2016년도 학부교육 실태조사(K-NSSE) 참여 안내\n",
      "2016.09.28\n",
      "goHref('/rb/?r=home&c=2/38&uid=2188');\n",
      "[공지]스마트시스템소프트웨어학과 2016-2 튜터 모집공고(2학년 대상)\n",
      "2016.09.28\n",
      "goHref('/rb/?r=home&c=2/38&uid=2186');\n"
     ]
    }
   ],
   "source": [
    "for i,j,k in list(s.my_tb):\n",
    "    print(\"{0}\\n{1}\\n{2}\".format(i,j,k))"
   ]
  },
  {
   "cell_type": "code",
   "execution_count": null,
   "metadata": {
    "collapsed": true
   },
   "outputs": [],
   "source": []
  }
 ],
 "metadata": {
  "kernelspec": {
   "display_name": "Python 3",
   "language": "python",
   "name": "python3"
  },
  "language_info": {
   "codemirror_mode": {
    "name": "ipython",
    "version": 3
   },
   "file_extension": ".py",
   "mimetype": "text/x-python",
   "name": "python",
   "nbconvert_exporter": "python",
   "pygments_lexer": "ipython3",
   "version": "3.5.2"
  }
 },
 "nbformat": 4,
 "nbformat_minor": 1
}
