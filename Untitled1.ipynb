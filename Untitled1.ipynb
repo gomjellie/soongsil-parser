{
 "cells": [
  {
   "cell_type": "code",
   "execution_count": 1,
   "metadata": {
    "collapsed": true
   },
   "outputs": [],
   "source": [
    "from bs4 import BeautifulSoup as bs\n",
    "import requests\n",
    "import re"
   ]
  },
  {
   "cell_type": "code",
   "execution_count": 2,
   "metadata": {
    "collapsed": true
   },
   "outputs": [],
   "source": [
    "url = 'http://smartsw.ssu.ac.kr/rb/?c=2/38'"
   ]
  },
  {
   "cell_type": "code",
   "execution_count": 3,
   "metadata": {
    "collapsed": true
   },
   "outputs": [],
   "source": [
    "r = requests.get(url)"
   ]
  },
  {
   "cell_type": "code",
   "execution_count": 4,
   "metadata": {
    "collapsed": true
   },
   "outputs": [],
   "source": [
    "soup = bs(r.text, 'html.parser')"
   ]
  },
  {
   "cell_type": "code",
   "execution_count": 5,
   "metadata": {
    "collapsed": true
   },
   "outputs": [],
   "source": [
    "bbslist = soup.find_all('div', {'id': 'bbslist'})"
   ]
  },
  {
   "cell_type": "code",
   "execution_count": 8,
   "metadata": {
    "collapsed": false
   },
   "outputs": [
    {
     "ename": "IndexError",
     "evalue": "list index out of range",
     "output_type": "error",
     "traceback": [
      "\u001b[0;31m---------------------------------------------------------------------------\u001b[0m",
      "\u001b[0;31mIndexError\u001b[0m                                Traceback (most recent call last)",
      "\u001b[0;32m<ipython-input-8-8704a0fece29>\u001b[0m in \u001b[0;36m<module>\u001b[0;34m()\u001b[0m\n\u001b[0;32m----> 1\u001b[0;31m \u001b[0mbbslist\u001b[0m\u001b[0;34m[\u001b[0m\u001b[0;36m1\u001b[0m\u001b[0;34m]\u001b[0m\u001b[0;34m\u001b[0m\u001b[0m\n\u001b[0m",
      "\u001b[0;31mIndexError\u001b[0m: list index out of range"
     ]
    }
   ],
   "source": []
  },
  {
   "cell_type": "code",
   "execution_count": 9,
   "metadata": {
    "collapsed": true
   },
   "outputs": [],
   "source": [
    "bbslist = soup.find('div', {'id': 'bbslist'})"
   ]
  },
  {
   "cell_type": "code",
   "execution_count": 10,
   "metadata": {
    "collapsed": false
   },
   "outputs": [
    {
     "data": {
      "text/plain": [
       "<div id=\"bbslist\">\n",
       "<div class=\"title\">\n",
       "<div class=\"article\">\n",
       "<a href=\"/rb/?r=home&amp;c=2/38\"><span class=\"name\">공지사항</span></a>\n",
       "<span class=\"stat\">156개(1/8페이지)</span>\n",
       "</div>\n",
       "<div class=\"category\">\n",
       "</div>\n",
       "<div class=\"clear\"></div>\n",
       "</div>\n",
       "<a name=\"D2254\"></a>\n",
       "<div class=\"list notice\" onclick=\"goHref('/rb/?r=home&amp;c=2/38&amp;uid=2254');\">\n",
       "<div class=\"sbj\">\n",
       "<img alt=\"공지\" class=\"notice\" src=\"/rb/modules/bbs/theme/_mobile/mobile01/image/ico_notice.gif\"/>\n",
       "<span class=\"subject ntc\">[공지]2016학년도 스마트시스템경진대회 포스터 및 관람안내</span>\n",
       "</div>\n",
       "<div class=\"info\"> \n",
       "\t\t\t관리자 <span>|</span> \n",
       "\t\t\t2016.11.22 14:57 <span>|</span> \n",
       "\t\t\t조회 253 \n",
       "\t\t\t\t\t\t<img alt=\"첨부파일\" class=\"imgpos\" src=\"/rb/_core/image/_public/ico_file.gif\" title=\"첨부파일\"/> </div>\n",
       "</div>\n",
       "<a name=\"D2245\"></a>\n",
       "<div class=\"list notice\" onclick=\"goHref('/rb/?r=home&amp;c=2/38&amp;uid=2245');\">\n",
       "<div class=\"sbj\">\n",
       "<img alt=\"공지\" class=\"notice\" src=\"/rb/modules/bbs/theme/_mobile/mobile01/image/ico_notice.gif\"/>\n",
       "<span class=\"subject ntc\">[공지]2017학년도 1학기 재학생 및 복학예정자 대상 교내장학금 신청공고</span>\n",
       "</div>\n",
       "<div class=\"info\"> \n",
       "\t\t\t관리자 <span>|</span> \n",
       "\t\t\t2016.11.14 11:19 <span>|</span> \n",
       "\t\t\t조회 201 \n",
       "\t\t\t\t\t\t\t\t\t\t\t</div>\n",
       "</div>\n",
       "<a name=\"D2230\"></a>\n",
       "<div class=\"list notice\" onclick=\"goHref('/rb/?r=home&amp;c=2/38&amp;uid=2230');\">\n",
       "<div class=\"sbj\">\n",
       "<img alt=\"공지\" class=\"notice\" src=\"/rb/modules/bbs/theme/_mobile/mobile01/image/ico_notice.gif\"/>\n",
       "<span class=\"subject ntc\">[공지]2017 CES 참관 추천학생 합격자 발표</span>\n",
       "</div>\n",
       "<div class=\"info\"> \n",
       "\t\t\t관리자 <span>|</span> \n",
       "\t\t\t2016.11.02 14:02 <span>|</span> \n",
       "\t\t\t조회 268 \n",
       "\t\t\t\t\t\t\t\t\t\t\t</div>\n",
       "</div>\n",
       "<a name=\"D2219\"></a>\n",
       "<div class=\"list notice\" onclick=\"goHref('/rb/?r=home&amp;c=2/38&amp;uid=2219');\">\n",
       "<div class=\"sbj\">\n",
       "<img alt=\"공지\" class=\"notice\" src=\"/rb/modules/bbs/theme/_mobile/mobile01/image/ico_notice.gif\"/>\n",
       "<span class=\"subject ntc\">[공지]국제 IT 연수 면접일정 안내</span>\n",
       "</div>\n",
       "<div class=\"info\"> \n",
       "\t\t\t관리자 <span>|</span> \n",
       "\t\t\t2016.10.27 16:30 <span>|</span> \n",
       "\t\t\t조회 253 \n",
       "\t\t\t\t\t\t\t\t\t\t\t</div>\n",
       "</div>\n",
       "<a name=\"D2217\"></a>\n",
       "<div class=\"list notice\" onclick=\"goHref('/rb/?r=home&amp;c=2/38&amp;uid=2217');\">\n",
       "<div class=\"sbj\">\n",
       "<img alt=\"공지\" class=\"notice\" src=\"/rb/modules/bbs/theme/_mobile/mobile01/image/ico_notice.gif\"/>\n",
       "<span class=\"subject ntc\">[공지]국제IT연수 사업 공지(수정)</span>\n",
       "</div>\n",
       "<div class=\"info\"> \n",
       "\t\t\t관리자 <span>|</span> \n",
       "\t\t\t2016.10.21 14:50 <span>|</span> \n",
       "\t\t\t조회 329 \n",
       "\t\t\t\t\t\t\t\t\t\t\t</div>\n",
       "</div>\n",
       "<a name=\"D2203\"></a>\n",
       "<div class=\"list notice\" onclick=\"goHref('/rb/?r=home&amp;c=2/38&amp;uid=2203');\">\n",
       "<div class=\"sbj\">\n",
       "<img alt=\"공지\" class=\"notice\" src=\"/rb/modules/bbs/theme/_mobile/mobile01/image/ico_notice.gif\"/>\n",
       "<span class=\"subject ntc\">[공지] 2016학년도 2학기 튜터링 프로그램 운영</span>\n",
       "</div>\n",
       "<div class=\"info\"> \n",
       "\t\t\t관리자 <span>|</span> \n",
       "\t\t\t2016.10.07 16:22 <span>|</span> \n",
       "\t\t\t조회 281 \n",
       "\t\t\t\t\t\t\t\t\t\t\t</div>\n",
       "</div>\n",
       "<a name=\"D2182\"></a>\n",
       "<div class=\"list notice\" onclick=\"goHref('/rb/?r=home&amp;c=2/38&amp;uid=2182');\">\n",
       "<div class=\"sbj\">\n",
       "<img alt=\"공지\" class=\"notice\" src=\"/rb/modules/bbs/theme/_mobile/mobile01/image/ico_notice.gif\"/>\n",
       "<span class=\"subject ntc\">[공지]2016학년도 스마트시스템 경진대회 공고</span>\n",
       "</div>\n",
       "<div class=\"info\"> \n",
       "\t\t\t관리자 <span>|</span> \n",
       "\t\t\t2016.09.22 11:20 <span>|</span> \n",
       "\t\t\t조회 377 \n",
       "\t\t\t\t\t\t<img alt=\"첨부파일\" class=\"imgpos\" src=\"/rb/_core/image/_public/ico_file.gif\" title=\"첨부파일\"/> </div>\n",
       "</div>\n",
       "<a name=\"D2038\"></a>\n",
       "<div class=\"list notice\" onclick=\"goHref('/rb/?r=home&amp;c=2/38&amp;uid=2038');\">\n",
       "<div class=\"sbj\">\n",
       "<img alt=\"공지\" class=\"notice\" src=\"/rb/modules/bbs/theme/_mobile/mobile01/image/ico_notice.gif\"/>\n",
       "<span class=\"subject ntc\">[공지]개인정보처리방침 안내</span>\n",
       "</div>\n",
       "<div class=\"info\"> \n",
       "\t\t\t관리자 <span>|</span> \n",
       "\t\t\t2016.05.11 16:53 <span>|</span> \n",
       "\t\t\t조회 400 \n",
       "\t\t\t\t\t\t\t\t\t\t\t</div>\n",
       "</div>\n",
       "<a name=\"D2267\"></a>\n",
       "<div class=\"list\" onclick=\"goHref('/rb/?r=home&amp;c=2/38&amp;uid=2267');\">\n",
       "<div class=\"sbj\">\n",
       "<span class=\"subject\">[공지]2016년도 동계 강좌-Java 프로그래밍 신청 안내</span>\n",
       "</div>\n",
       "<div class=\"info\">\n",
       "\t\t\t관리자 <span>|</span> \n",
       "\t\t\t2016.12.14 13:12 <span>|</span> \n",
       "\t\t\t조회 69 \n",
       "\t\t\t\t\t\t<img alt=\"첨부파일\" class=\"imgpos\" src=\"/rb/_core/image/_public/ico_file.gif\" title=\"첨부파일\"/> </div>\n",
       "</div>\n",
       "<a name=\"D2263\"></a>\n",
       "<div class=\"list\" onclick=\"goHref('/rb/?r=home&amp;c=2/38&amp;uid=2263');\">\n",
       "<div class=\"sbj\">\n",
       "<span class=\"subject\">[공지]2016학년도 동계 IT 해외봉사 참가자 모집 안내</span>\n",
       "</div>\n",
       "<div class=\"info\">\n",
       "\t\t\t관리자 <span>|</span> \n",
       "\t\t\t2016.11.24 11:04 <span>|</span> \n",
       "\t\t\t조회 88 \n",
       "\t\t\t\t\t\t<img alt=\"첨부파일\" class=\"imgpos\" src=\"/rb/_core/image/_public/ico_file.gif\" title=\"첨부파일\"/> </div>\n",
       "</div>\n",
       "<a name=\"D2262\"></a>\n",
       "<div class=\"list\" onclick=\"goHref('/rb/?r=home&amp;c=2/38&amp;uid=2262');\">\n",
       "<div class=\"sbj\">\n",
       "<span class=\"subject\">[공지]2016 '학술적 에세이/논문 쓰기 경진대회' 안내</span>\n",
       "</div>\n",
       "<div class=\"info\">\n",
       "\t\t\t관리자 <span>|</span> \n",
       "\t\t\t2016.11.24 09:51 <span>|</span> \n",
       "\t\t\t조회 58 \n",
       "\t\t\t<img alt=\"사진\" class=\"imgpos\" src=\"/rb/_core/image/_public/ico_pic.gif\" title=\"사진\"/> </div>\n",
       "</div>\n",
       "<a name=\"D2253\"></a>\n",
       "<div class=\"list\" onclick=\"goHref('/rb/?r=home&amp;c=2/38&amp;uid=2253');\">\n",
       "<div class=\"sbj\">\n",
       "<span class=\"subject\">[공지]찾아가는 공개SW 체험캠프</span>\n",
       "</div>\n",
       "<div class=\"info\">\n",
       "\t\t\t관리자 <span>|</span> \n",
       "\t\t\t2016.11.22 14:22 <span>|</span> \n",
       "\t\t\t조회 63 \n",
       "\t\t\t<img alt=\"사진\" class=\"imgpos\" src=\"/rb/_core/image/_public/ico_pic.gif\" title=\"사진\"/> </div>\n",
       "</div>\n",
       "<a name=\"D2251\"></a>\n",
       "<div class=\"list\" onclick=\"goHref('/rb/?r=home&amp;c=2/38&amp;uid=2251');\">\n",
       "<div class=\"sbj\">\n",
       "<span class=\"subject\">[공지][네이버 D2] 예비개발자를 위한 IT 스터디 그룹 프로그램 모집 안내</span>\n",
       "</div>\n",
       "<div class=\"info\">\n",
       "\t\t\t관리자 <span>|</span> \n",
       "\t\t\t2016.11.21 10:15 <span>|</span> \n",
       "\t\t\t조회 57 \n",
       "\t\t\t\t\t\t\t\t\t\t\t</div>\n",
       "</div>\n",
       "<a name=\"D2244\"></a>\n",
       "<div class=\"list\" onclick=\"goHref('/rb/?r=home&amp;c=2/38&amp;uid=2244');\">\n",
       "<div class=\"sbj\">\n",
       "<span class=\"subject\">[공지]2016 외국인 투자기업 현장방문 참가학생 모집 안내</span>\n",
       "</div>\n",
       "<div class=\"info\">\n",
       "\t\t\t관리자 <span>|</span> \n",
       "\t\t\t2016.11.11 09:59 <span>|</span> \n",
       "\t\t\t조회 55 \n",
       "\t\t\t\t\t\t<img alt=\"첨부파일\" class=\"imgpos\" src=\"/rb/_core/image/_public/ico_file.gif\" title=\"첨부파일\"/> </div>\n",
       "</div>\n",
       "<a name=\"D2236\"></a>\n",
       "<div class=\"list\" onclick=\"goHref('/rb/?r=home&amp;c=2/38&amp;uid=2236');\">\n",
       "<div class=\"sbj\">\n",
       "<span class=\"subject\">[공지] 2016-겨울계절제 국내대학 학점교류 시행 안내</span>\n",
       "</div>\n",
       "<div class=\"info\">\n",
       "\t\t\t관리자 <span>|</span> \n",
       "\t\t\t2016.11.10 14:50 <span>|</span> \n",
       "\t\t\t조회 61 \n",
       "\t\t\t\t\t\t<img alt=\"첨부파일\" class=\"imgpos\" src=\"/rb/_core/image/_public/ico_file.gif\" title=\"첨부파일\"/> </div>\n",
       "</div>\n",
       "<a name=\"D2233\"></a>\n",
       "<div class=\"list\" onclick=\"goHref('/rb/?r=home&amp;c=2/38&amp;uid=2233');\">\n",
       "<div class=\"sbj\">\n",
       "<span class=\"subject\">[공지]2016년도 2~4학년 대상 숭실 6대 핵심역량 진단 실시 안내</span>\n",
       "</div>\n",
       "<div class=\"info\">\n",
       "\t\t\t관리자 <span>|</span> \n",
       "\t\t\t2016.11.04 13:40 <span>|</span> \n",
       "\t\t\t조회 152 \n",
       "\t\t\t<img alt=\"사진\" class=\"imgpos\" src=\"/rb/_core/image/_public/ico_pic.gif\" title=\"사진\"/> </div>\n",
       "</div>\n",
       "<a name=\"D2216\"></a>\n",
       "<div class=\"list\" onclick=\"goHref('/rb/?r=home&amp;c=2/38&amp;uid=2216');\">\n",
       "<div class=\"sbj\">\n",
       "<span class=\"subject\">[공지]2016학년도 2학기 강의만족도조사 (강의평가) 실시 안내</span>\n",
       "</div>\n",
       "<div class=\"info\">\n",
       "\t\t\t관리자 <span>|</span> \n",
       "\t\t\t2016.10.19 09:44 <span>|</span> \n",
       "\t\t\t조회 58 \n",
       "\t\t\t\t\t\t\t\t\t\t\t</div>\n",
       "</div>\n",
       "<a name=\"D2215\"></a>\n",
       "<div class=\"list\" onclick=\"goHref('/rb/?r=home&amp;c=2/38&amp;uid=2215');\">\n",
       "<div class=\"sbj\">\n",
       "<span class=\"subject\">[공지]문화관 406호 출입 안내</span>\n",
       "</div>\n",
       "<div class=\"info\">\n",
       "\t\t\t관리자 <span>|</span> \n",
       "\t\t\t2016.10.17 15:20 <span>|</span> \n",
       "\t\t\t조회 85 \n",
       "\t\t\t\t\t\t\t\t\t\t\t</div>\n",
       "</div>\n",
       "<a name=\"D2207\"></a>\n",
       "<div class=\"list\" onclick=\"goHref('/rb/?r=home&amp;c=2/38&amp;uid=2207');\">\n",
       "<div class=\"sbj\">\n",
       "<span class=\"subject\">[공지]제5회 숭실석좌강좌 개최 안내</span>\n",
       "</div>\n",
       "<div class=\"info\">\n",
       "\t\t\t관리자 <span>|</span> \n",
       "\t\t\t2016.10.14 13:48 <span>|</span> \n",
       "\t\t\t조회 53 \n",
       "\t\t\t<img alt=\"사진\" class=\"imgpos\" src=\"/rb/_core/image/_public/ico_pic.gif\" title=\"사진\"/> <img alt=\"첨부파일\" class=\"imgpos\" src=\"/rb/_core/image/_public/ico_file.gif\" title=\"첨부파일\"/> </div>\n",
       "</div>\n",
       "<a name=\"D2205\"></a>\n",
       "<div class=\"list\" onclick=\"goHref('/rb/?r=home&amp;c=2/38&amp;uid=2205');\">\n",
       "<div class=\"sbj\">\n",
       "<span class=\"subject\">[공지]'빅포럼(B.I.G. Forum) 2016'  참여 안내</span>\n",
       "</div>\n",
       "<div class=\"info\">\n",
       "\t\t\t관리자 <span>|</span> \n",
       "\t\t\t2016.10.11 09:57 <span>|</span> \n",
       "\t\t\t조회 68 \n",
       "\t\t\t\t\t\t\t\t\t\t\t</div>\n",
       "</div>\n",
       "<a name=\"D2202\"></a>\n",
       "<div class=\"list\" onclick=\"goHref('/rb/?r=home&amp;c=2/38&amp;uid=2202');\">\n",
       "<div class=\"sbj\">\n",
       "<span class=\"subject\">[공지]2016 전국대학생자율로봇경진대회 공고</span>\n",
       "</div>\n",
       "<div class=\"info\">\n",
       "\t\t\t관리자 <span>|</span> \n",
       "\t\t\t2016.10.07 10:02 <span>|</span> \n",
       "\t\t\t조회 75 \n",
       "\t\t\t\t\t\t<img alt=\"첨부파일\" class=\"imgpos\" src=\"/rb/_core/image/_public/ico_file.gif\" title=\"첨부파일\"/> </div>\n",
       "</div>\n",
       "<a name=\"D2201\"></a>\n",
       "<div class=\"list\" onclick=\"goHref('/rb/?r=home&amp;c=2/38&amp;uid=2201');\">\n",
       "<div class=\"sbj\">\n",
       "<span class=\"subject\">[공지]2016 슈퍼스타 통합 창업 경진대회 안내</span>\n",
       "</div>\n",
       "<div class=\"info\">\n",
       "\t\t\t관리자 <span>|</span> \n",
       "\t\t\t2016.10.06 09:26 <span>|</span> \n",
       "\t\t\t조회 66 \n",
       "\t\t\t<img alt=\"사진\" class=\"imgpos\" src=\"/rb/_core/image/_public/ico_pic.gif\" title=\"사진\"/> <img alt=\"첨부파일\" class=\"imgpos\" src=\"/rb/_core/image/_public/ico_file.gif\" title=\"첨부파일\"/> </div>\n",
       "</div>\n",
       "<a name=\"D2199\"></a>\n",
       "<div class=\"list\" onclick=\"goHref('/rb/?r=home&amp;c=2/38&amp;uid=2199');\">\n",
       "<div class=\"sbj\">\n",
       "<span class=\"subject\">[공지]서울시 공공앱 공모전 안내</span>\n",
       "</div>\n",
       "<div class=\"info\">\n",
       "\t\t\t관리자 <span>|</span> \n",
       "\t\t\t2016.10.05 09:36 <span>|</span> \n",
       "\t\t\t조회 73 \n",
       "\t\t\t\t\t\t<img alt=\"첨부파일\" class=\"imgpos\" src=\"/rb/_core/image/_public/ico_file.gif\" title=\"첨부파일\"/> </div>\n",
       "</div>\n",
       "<a name=\"D2192\"></a>\n",
       "<div class=\"list\" onclick=\"goHref('/rb/?r=home&amp;c=2/38&amp;uid=2192');\">\n",
       "<div class=\"sbj\">\n",
       "<span class=\"subject\">[공지]2017학년도 퀄컴 글로벌 장학프로그램 참여 홍보</span>\n",
       "</div>\n",
       "<div class=\"info\">\n",
       "\t\t\t관리자 <span>|</span> \n",
       "\t\t\t2016.09.30 10:42 <span>|</span> \n",
       "\t\t\t조회 78 \n",
       "\t\t\t\t\t\t\t\t\t\t\t</div>\n",
       "</div>\n",
       "<a name=\"D2190\"></a>\n",
       "<div class=\"list\" onclick=\"goHref('/rb/?r=home&amp;c=2/38&amp;uid=2190');\">\n",
       "<div class=\"sbj\">\n",
       "<span class=\"subject\">[공지]융합전공 교과과정 안내</span>\n",
       "</div>\n",
       "<div class=\"info\">\n",
       "\t\t\t관리자 <span>|</span> \n",
       "\t\t\t2016.09.29 11:58 <span>|</span> \n",
       "\t\t\t조회 81 \n",
       "\t\t\t\t\t\t<img alt=\"첨부파일\" class=\"imgpos\" src=\"/rb/_core/image/_public/ico_file.gif\" title=\"첨부파일\"/> </div>\n",
       "</div>\n",
       "<a name=\"D2189\"></a>\n",
       "<div class=\"list\" onclick=\"goHref('/rb/?r=home&amp;c=2/38&amp;uid=2189');\">\n",
       "<div class=\"sbj\">\n",
       "<span class=\"subject\">[공지]2016년 제7차 의무경찰 모집 공고</span>\n",
       "</div>\n",
       "<div class=\"info\">\n",
       "\t\t\t관리자 <span>|</span> \n",
       "\t\t\t2016.09.29 11:53 <span>|</span> \n",
       "\t\t\t조회 96 \n",
       "\t\t\t\t\t\t<img alt=\"첨부파일\" class=\"imgpos\" src=\"/rb/_core/image/_public/ico_file.gif\" title=\"첨부파일\"/> </div>\n",
       "</div>\n",
       "<a name=\"D2188\"></a>\n",
       "<div class=\"list\" onclick=\"goHref('/rb/?r=home&amp;c=2/38&amp;uid=2188');\">\n",
       "<div class=\"sbj\">\n",
       "<span class=\"subject\">[공지]2016년도 학부교육 실태조사(K-NSSE) 참여 안내</span>\n",
       "</div>\n",
       "<div class=\"info\">\n",
       "\t\t\t관리자 <span>|</span> \n",
       "\t\t\t2016.09.28 15:40 <span>|</span> \n",
       "\t\t\t조회 61 \n",
       "\t\t\t<img alt=\"사진\" class=\"imgpos\" src=\"/rb/_core/image/_public/ico_pic.gif\" title=\"사진\"/> </div>\n",
       "</div>\n",
       "<a name=\"D2186\"></a>\n",
       "<div class=\"list\" onclick=\"goHref('/rb/?r=home&amp;c=2/38&amp;uid=2186');\">\n",
       "<div class=\"sbj\">\n",
       "<span class=\"subject\">[공지]스마트시스템소프트웨어학과 2016-2 튜터 모집공고(2학년 대상)</span>\n",
       "</div>\n",
       "<div class=\"info\">\n",
       "\t\t\t관리자 <span>|</span> \n",
       "\t\t\t2016.09.28 14:59 <span>|</span> \n",
       "\t\t\t조회 239 \n",
       "\t\t\t\t\t\t\t\t\t\t\t</div>\n",
       "</div>\n",
       "<div class=\"page\">\n",
       "<img alt=\"처음페이지\" src=\"/rb/_core/image/page/default/fp1.gif\"/><img alt=\"이전 5 페이지\" src=\"/rb/_core/image/page/default/p1.gif\"/><img alt=\"\" class=\"split\" src=\"/rb/_core/image/page/default/l.gif\"/><span class=\"selected\" title=\"1 페이지\">1</span><img alt=\"\" class=\"split\" src=\"/rb/_core/image/page/default/l.gif\"/><a class=\"notselected\" href=\"/rb/?r=home&amp;c=2/38&amp;p=2\" title=\"2 페이지\">2</a><img alt=\"\" class=\"split\" src=\"/rb/_core/image/page/default/l.gif\"/><a class=\"notselected\" href=\"/rb/?r=home&amp;c=2/38&amp;p=3\" title=\"3 페이지\">3</a><img alt=\"\" class=\"split\" src=\"/rb/_core/image/page/default/l.gif\"/><a class=\"notselected\" href=\"/rb/?r=home&amp;c=2/38&amp;p=4\" title=\"4 페이지\">4</a><img alt=\"\" class=\"split\" src=\"/rb/_core/image/page/default/l.gif\"/><a class=\"notselected\" href=\"/rb/?r=home&amp;c=2/38&amp;p=5\" title=\"5 페이지\">5</a><img alt=\"\" class=\"split\" src=\"/rb/_core/image/page/default/l.gif\"/><a href=\"/rb/?r=home&amp;c=2/38&amp;p=6\"><img alt=\"다음 5 페이지\" src=\"/rb/_core/image/page/default/n2.gif\"/></a><a href=\"/rb/?r=home&amp;c=2/38&amp;p=8\"><img alt=\"마지막페이지\" src=\"/rb/_core/image/page/default/lp.gif\"/></a> </div>\n",
       "<div class=\"btnbox\">\n",
       "<div class=\"xl\">\n",
       "<form action=\"/rb/\" name=\"bbssearchf\">\n",
       "<input name=\"r\" type=\"hidden\" value=\"home\"/>\n",
       "<input name=\"c\" type=\"hidden\" value=\"2/38\"/>\n",
       "<input name=\"m\" type=\"hidden\" value=\"bbs\"/>\n",
       "<input name=\"bid\" type=\"hidden\" value=\"notice\"/>\n",
       "<input name=\"cat\" type=\"hidden\" value=\"\"/>\n",
       "<input name=\"sort\" type=\"hidden\" value=\"gid\"/>\n",
       "<input name=\"orderby\" type=\"hidden\" value=\"asc\"/>\n",
       "<input name=\"recnum\" type=\"hidden\" value=\"20\"/>\n",
       "<input name=\"type\" type=\"hidden\" value=\"\"/>\n",
       "<input name=\"iframe\" type=\"hidden\" value=\"\"/>\n",
       "<input name=\"skin\" type=\"hidden\" value=\"\"/>\n",
       "<select name=\"where\">\n",
       "<option value=\"subject|tag\">제목+태그</option>\n",
       "<option value=\"content\">본문</option>\n",
       "<option value=\"name\">이름</option>\n",
       "<option value=\"nic\">닉네임</option>\n",
       "<option value=\"id\">아이디</option>\n",
       "<option value=\"term\">등록일</option>\n",
       "</select>\n",
       "<input class=\"input\" name=\"keyword\" type=\"text\" value=\"\"/>\n",
       "<input class=\"btnblue\" type=\"submit\" value=\" 검색 \"/>\n",
       "</form>\n",
       "</div>\n",
       "<div class=\"xr\">\n",
       "<span class=\"btn00\"><a href=\"/rb/?r=home&amp;c=2/38\">목록</a></span>\n",
       "<span class=\"btn00\"><a href=\"/rb/?r=home&amp;c=2/38&amp;mod=write\">쓰기</a></span> </div>\n",
       "<div class=\"clear\"></div>\n",
       "</div>\n",
       "</div>"
      ]
     },
     "execution_count": 10,
     "metadata": {},
     "output_type": "execute_result"
    }
   ],
   "source": [
    "bbslist"
   ]
  },
  {
   "cell_type": "code",
   "execution_count": 11,
   "metadata": {
    "collapsed": true
   },
   "outputs": [],
   "source": [
    "noti_list = [noti.text for noti in bbslist.find_all('span', {'class': 'subject'})]"
   ]
  },
  {
   "cell_type": "code",
   "execution_count": 12,
   "metadata": {
    "collapsed": false
   },
   "outputs": [
    {
     "data": {
      "text/plain": [
       "['[공지]2016학년도 스마트시스템경진대회 포스터 및 관람안내',\n",
       " '[공지]2017학년도 1학기 재학생 및 복학예정자 대상 교내장학금 신청공고',\n",
       " '[공지]2017 CES 참관 추천학생 합격자 발표',\n",
       " '[공지]국제 IT 연수 면접일정 안내',\n",
       " '[공지]국제IT연수 사업 공지(수정)',\n",
       " '[공지] 2016학년도 2학기 튜터링 프로그램 운영',\n",
       " '[공지]2016학년도 스마트시스템 경진대회 공고',\n",
       " '[공지]개인정보처리방침 안내',\n",
       " '[공지]2016년도 동계 강좌-Java 프로그래밍 신청 안내',\n",
       " '[공지]2016학년도 동계 IT 해외봉사 참가자 모집 안내',\n",
       " \"[공지]2016 '학술적 에세이/논문 쓰기 경진대회' 안내\",\n",
       " '[공지]찾아가는 공개SW 체험캠프',\n",
       " '[공지][네이버 D2] 예비개발자를 위한 IT 스터디 그룹 프로그램 모집 안내',\n",
       " '[공지]2016 외국인 투자기업 현장방문 참가학생 모집 안내',\n",
       " '[공지] 2016-겨울계절제 국내대학 학점교류 시행 안내',\n",
       " '[공지]2016년도 2~4학년 대상 숭실 6대 핵심역량 진단 실시 안내',\n",
       " '[공지]2016학년도 2학기 강의만족도조사 (강의평가) 실시 안내',\n",
       " '[공지]문화관 406호 출입 안내',\n",
       " '[공지]제5회 숭실석좌강좌 개최 안내',\n",
       " \"[공지]'빅포럼(B.I.G. Forum) 2016'  참여 안내\",\n",
       " '[공지]2016 전국대학생자율로봇경진대회 공고',\n",
       " '[공지]2016 슈퍼스타 통합 창업 경진대회 안내',\n",
       " '[공지]서울시 공공앱 공모전 안내',\n",
       " '[공지]2017학년도 퀄컴 글로벌 장학프로그램 참여 홍보',\n",
       " '[공지]융합전공 교과과정 안내',\n",
       " '[공지]2016년 제7차 의무경찰 모집 공고',\n",
       " '[공지]2016년도 학부교육 실태조사(K-NSSE) 참여 안내',\n",
       " '[공지]스마트시스템소프트웨어학과 2016-2 튜터 모집공고(2학년 대상)']"
      ]
     },
     "execution_count": 12,
     "metadata": {},
     "output_type": "execute_result"
    }
   ],
   "source": [
    "noti_list"
   ]
  },
  {
   "cell_type": "code",
   "execution_count": 14,
   "metadata": {
    "collapsed": false
   },
   "outputs": [],
   "source": [
    "compiled = re.compile(r\"\\d{4}.\\d{2}.\\d{2}\")"
   ]
  },
  {
   "cell_type": "code",
   "execution_count": 15,
   "metadata": {
    "collapsed": false
   },
   "outputs": [
    {
     "data": {
      "text/plain": [
       "'1234.43.34'"
      ]
     },
     "execution_count": 15,
     "metadata": {},
     "output_type": "execute_result"
    }
   ],
   "source": [
    "re.search(compiled, \"1234.43.34\").group()"
   ]
  },
  {
   "cell_type": "code",
   "execution_count": 16,
   "metadata": {
    "collapsed": true
   },
   "outputs": [],
   "source": [
    "from susiso_parser import susiso_parser"
   ]
  },
  {
   "cell_type": "code",
   "execution_count": 17,
   "metadata": {
    "collapsed": true
   },
   "outputs": [],
   "source": [
    "s = susiso_parser()"
   ]
  },
  {
   "cell_type": "code",
   "execution_count": 18,
   "metadata": {
    "collapsed": false
   },
   "outputs": [
    {
     "name": "stdout",
     "output_type": "stream",
     "text": [
      "<a href=http://smartsw.ssu.ac.kr/rb/?r=home&c=2/38&uid=2254>[공지]2016학년도 스마트시스템경진대회 포스터 및 관람안내</a> \n",
      "스시소 공지:2016.11.22\n",
      "<a href=http://smartsw.ssu.ac.kr/rb/?r=home&c=2/38&uid=2245>[공지]2017학년도 1학기 재학생 및 복학예정자 대상 교내장학금 신청공고</a> \n",
      "스시소 공지:2016.11.14\n",
      "<a href=http://smartsw.ssu.ac.kr/rb/?r=home&c=2/38&uid=2230>[공지]2017 CES 참관 추천학생 합격자 발표</a> \n",
      "스시소 공지:2016.11.02\n",
      "<a href=http://smartsw.ssu.ac.kr/rb/?r=home&c=2/38&uid=2219>[공지]국제 IT 연수 면접일정 안내</a> \n",
      "스시소 공지:2016.10.27\n",
      "<a href=http://smartsw.ssu.ac.kr/rb/?r=home&c=2/38&uid=2217>[공지]국제IT연수 사업 공지(수정)</a> \n",
      "스시소 공지:2016.10.21\n",
      "<a href=http://smartsw.ssu.ac.kr/rb/?r=home&c=2/38&uid=2203>[공지] 2016학년도 2학기 튜터링 프로그램 운영</a> \n",
      "스시소 공지:2016.10.07\n",
      "<a href=http://smartsw.ssu.ac.kr/rb/?r=home&c=2/38&uid=2182>[공지]2016학년도 스마트시스템 경진대회 공고</a> \n",
      "스시소 공지:2016.09.22\n",
      "<a href=http://smartsw.ssu.ac.kr/rb/?r=home&c=2/38&uid=2038>[공지]개인정보처리방침 안내</a> \n",
      "스시소 공지:2016.05.11\n",
      "<a href=http://smartsw.ssu.ac.kr/rb/?r=home&c=2/38&uid=2267>[공지]2016년도 동계 강좌-Java 프로그래밍 신청 안내</a> \n",
      "스시소 공지:2016.12.14\n",
      "<a href=http://smartsw.ssu.ac.kr/rb/?r=home&c=2/38&uid=2263>[공지]2016학년도 동계 IT 해외봉사 참가자 모집 안내</a> \n",
      "스시소 공지:2016.11.24\n",
      "<a href=http://smartsw.ssu.ac.kr/rb/?r=home&c=2/38&uid=2262>[공지]2016 '학술적 에세이/논문 쓰기 경진대회' 안내</a> \n",
      "스시소 공지:2016.11.24\n",
      "<a href=http://smartsw.ssu.ac.kr/rb/?r=home&c=2/38&uid=2253>[공지]찾아가는 공개SW 체험캠프</a> \n",
      "스시소 공지:2016.11.22\n",
      "<a href=http://smartsw.ssu.ac.kr/rb/?r=home&c=2/38&uid=2251>[공지][네이버 D2] 예비개발자를 위한 IT 스터디 그룹 프로그램 모집 안내</a> \n",
      "스시소 공지:2016.11.21\n",
      "<a href=http://smartsw.ssu.ac.kr/rb/?r=home&c=2/38&uid=2244>[공지]2016 외국인 투자기업 현장방문 참가학생 모집 안내</a> \n",
      "스시소 공지:2016.11.11\n",
      "<a href=http://smartsw.ssu.ac.kr/rb/?r=home&c=2/38&uid=2236>[공지] 2016-겨울계절제 국내대학 학점교류 시행 안내</a> \n",
      "스시소 공지:2016.11.10\n",
      "<a href=http://smartsw.ssu.ac.kr/rb/?r=home&c=2/38&uid=2233>[공지]2016년도 2~4학년 대상 숭실 6대 핵심역량 진단 실시 안내</a> \n",
      "스시소 공지:2016.11.04\n",
      "<a href=http://smartsw.ssu.ac.kr/rb/?r=home&c=2/38&uid=2216>[공지]2016학년도 2학기 강의만족도조사 (강의평가) 실시 안내</a> \n",
      "스시소 공지:2016.10.19\n",
      "<a href=http://smartsw.ssu.ac.kr/rb/?r=home&c=2/38&uid=2215>[공지]문화관 406호 출입 안내</a> \n",
      "스시소 공지:2016.10.17\n",
      "<a href=http://smartsw.ssu.ac.kr/rb/?r=home&c=2/38&uid=2207>[공지]제5회 숭실석좌강좌 개최 안내</a> \n",
      "스시소 공지:2016.10.14\n",
      "<a href=http://smartsw.ssu.ac.kr/rb/?r=home&c=2/38&uid=2205>[공지]'빅포럼(B.I.G. Forum) 2016'  참여 안내</a> \n",
      "스시소 공지:2016.10.11\n",
      "<a href=http://smartsw.ssu.ac.kr/rb/?r=home&c=2/38&uid=2202>[공지]2016 전국대학생자율로봇경진대회 공고</a> \n",
      "스시소 공지:2016.10.07\n",
      "<a href=http://smartsw.ssu.ac.kr/rb/?r=home&c=2/38&uid=2201>[공지]2016 슈퍼스타 통합 창업 경진대회 안내</a> \n",
      "스시소 공지:2016.10.06\n",
      "<a href=http://smartsw.ssu.ac.kr/rb/?r=home&c=2/38&uid=2199>[공지]서울시 공공앱 공모전 안내</a> \n",
      "스시소 공지:2016.10.05\n",
      "<a href=http://smartsw.ssu.ac.kr/rb/?r=home&c=2/38&uid=2192>[공지]2017학년도 퀄컴 글로벌 장학프로그램 참여 홍보</a> \n",
      "스시소 공지:2016.09.30\n",
      "<a href=http://smartsw.ssu.ac.kr/rb/?r=home&c=2/38&uid=2190>[공지]융합전공 교과과정 안내</a> \n",
      "스시소 공지:2016.09.29\n",
      "<a href=http://smartsw.ssu.ac.kr/rb/?r=home&c=2/38&uid=2189>[공지]2016년 제7차 의무경찰 모집 공고</a> \n",
      "스시소 공지:2016.09.29\n",
      "<a href=http://smartsw.ssu.ac.kr/rb/?r=home&c=2/38&uid=2188>[공지]2016년도 학부교육 실태조사(K-NSSE) 참여 안내</a> \n",
      "스시소 공지:2016.09.28\n",
      "<a href=http://smartsw.ssu.ac.kr/rb/?r=home&c=2/38&uid=2186>[공지]스마트시스템소프트웨어학과 2016-2 튜터 모집공고(2학년 대상)</a> \n",
      "스시소 공지:2016.09.28\n",
      "\n"
     ]
    }
   ],
   "source": [
    "print(s.get_notification())"
   ]
  },
  {
   "cell_type": "code",
   "execution_count": 19,
   "metadata": {
    "collapsed": true
   },
   "outputs": [],
   "source": [
    "a = [1,2,3]"
   ]
  },
  {
   "cell_type": "code",
   "execution_count": 20,
   "metadata": {
    "collapsed": true
   },
   "outputs": [],
   "source": [
    "b= [4,5,6]"
   ]
  },
  {
   "cell_type": "code",
   "execution_count": 21,
   "metadata": {
    "collapsed": true
   },
   "outputs": [],
   "source": [
    "z = zip(a,b)"
   ]
  },
  {
   "cell_type": "code",
   "execution_count": 22,
   "metadata": {
    "collapsed": false
   },
   "outputs": [
    {
     "data": {
      "text/plain": [
       "<zip at 0x10d9d4e48>"
      ]
     },
     "execution_count": 22,
     "metadata": {},
     "output_type": "execute_result"
    }
   ],
   "source": [
    "z"
   ]
  },
  {
   "cell_type": "code",
   "execution_count": 23,
   "metadata": {
    "collapsed": false
   },
   "outputs": [
    {
     "name": "stdout",
     "output_type": "stream",
     "text": [
      "(1, 4)\n",
      "(2, 5)\n",
      "(3, 6)\n"
     ]
    }
   ],
   "source": [
    "for i in z:\n",
    "    print(i)"
   ]
  },
  {
   "cell_type": "code",
   "execution_count": 25,
   "metadata": {
    "collapsed": true
   },
   "outputs": [],
   "source": [
    "for i,j in z:\n",
    "    print(i, j)"
   ]
  },
  {
   "cell_type": "code",
   "execution_count": 26,
   "metadata": {
    "collapsed": true
   },
   "outputs": [],
   "source": [
    "for i in z:\n",
    "    print(i)"
   ]
  },
  {
   "cell_type": "code",
   "execution_count": 27,
   "metadata": {
    "collapsed": false
   },
   "outputs": [
    {
     "data": {
      "text/plain": [
       "<zip at 0x10d9d4e48>"
      ]
     },
     "execution_count": 27,
     "metadata": {},
     "output_type": "execute_result"
    }
   ],
   "source": [
    "z"
   ]
  },
  {
   "cell_type": "code",
   "execution_count": 28,
   "metadata": {
    "collapsed": true
   },
   "outputs": [],
   "source": [
    "for i in z:\n",
    "    print(i)\n",
    "    "
   ]
  },
  {
   "cell_type": "code",
   "execution_count": 29,
   "metadata": {
    "collapsed": false
   },
   "outputs": [
    {
     "data": {
      "text/plain": [
       "[1, 2, 3]"
      ]
     },
     "execution_count": 29,
     "metadata": {},
     "output_type": "execute_result"
    }
   ],
   "source": [
    "a"
   ]
  },
  {
   "cell_type": "code",
   "execution_count": 30,
   "metadata": {
    "collapsed": false
   },
   "outputs": [
    {
     "data": {
      "text/plain": [
       "[4, 5, 6]"
      ]
     },
     "execution_count": 30,
     "metadata": {},
     "output_type": "execute_result"
    }
   ],
   "source": [
    "b"
   ]
  },
  {
   "cell_type": "code",
   "execution_count": 31,
   "metadata": {
    "collapsed": true
   },
   "outputs": [],
   "source": [
    "z = (a,b)"
   ]
  },
  {
   "cell_type": "code",
   "execution_count": 32,
   "metadata": {
    "collapsed": false
   },
   "outputs": [
    {
     "data": {
      "text/plain": [
       "([1, 2, 3], [4, 5, 6])"
      ]
     },
     "execution_count": 32,
     "metadata": {},
     "output_type": "execute_result"
    }
   ],
   "source": [
    "z"
   ]
  },
  {
   "cell_type": "code",
   "execution_count": 34,
   "metadata": {
    "collapsed": false
   },
   "outputs": [
    {
     "name": "stdout",
     "output_type": "stream",
     "text": [
      "[1, 2, 3]\n",
      "[4, 5, 6]\n"
     ]
    }
   ],
   "source": [
    "for i in z:\n",
    "    print(i)"
   ]
  },
  {
   "cell_type": "code",
   "execution_count": 35,
   "metadata": {
    "collapsed": true
   },
   "outputs": [],
   "source": [
    "s.refresh_notification()"
   ]
  },
  {
   "cell_type": "code",
   "execution_count": 36,
   "metadata": {
    "collapsed": false
   },
   "outputs": [
    {
     "data": {
      "text/plain": [
       "<zip at 0x10e236d48>"
      ]
     },
     "execution_count": 36,
     "metadata": {},
     "output_type": "execute_result"
    }
   ],
   "source": [
    "s.my_tb"
   ]
  },
  {
   "cell_type": "code",
   "execution_count": 41,
   "metadata": {
    "collapsed": false
   },
   "outputs": [],
   "source": [
    "for i in s.my_tb:\n",
    "    print(i)"
   ]
  },
  {
   "cell_type": "code",
   "execution_count": 42,
   "metadata": {
    "collapsed": true
   },
   "outputs": [],
   "source": [
    "s.refresh_notification()"
   ]
  },
  {
   "cell_type": "code",
   "execution_count": 48,
   "metadata": {
    "collapsed": true
   },
   "outputs": [],
   "source": [
    "a = [1, 2, 3]\n",
    "b = [4, 5, 6]"
   ]
  },
  {
   "cell_type": "code",
   "execution_count": 52,
   "metadata": {
    "collapsed": true
   },
   "outputs": [],
   "source": [
    "z = zip(a,b)"
   ]
  },
  {
   "cell_type": "code",
   "execution_count": 53,
   "metadata": {
    "collapsed": false
   },
   "outputs": [
    {
     "name": "stdout",
     "output_type": "stream",
     "text": [
      "(1, 4)\n",
      "(2, 5)\n",
      "(3, 6)\n"
     ]
    }
   ],
   "source": [
    "for i in z:\n",
    "    print(i)"
   ]
  },
  {
   "cell_type": "code",
   "execution_count": 51,
   "metadata": {
    "collapsed": true
   },
   "outputs": [],
   "source": [
    "for i in z:\n",
    "    print(i[0])"
   ]
  },
  {
   "cell_type": "code",
   "execution_count": null,
   "metadata": {
    "collapsed": true
   },
   "outputs": [],
   "source": []
  }
 ],
 "metadata": {
  "kernelspec": {
   "display_name": "Python 3",
   "language": "python",
   "name": "python3"
  },
  "language_info": {
   "codemirror_mode": {
    "name": "ipython",
    "version": 3
   },
   "file_extension": ".py",
   "mimetype": "text/x-python",
   "name": "python",
   "nbconvert_exporter": "python",
   "pygments_lexer": "ipython3",
   "version": "3.5.2"
  }
 },
 "nbformat": 4,
 "nbformat_minor": 1
}
